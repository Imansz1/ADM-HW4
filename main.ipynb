{
 "cells": [
  {
   "cell_type": "markdown",
   "metadata": {
    "id": "ScVESLE06RFs"
   },
   "source": [
    "# Homework 4-  Hard coding"
   ]
  },
  {
   "cell_type": "markdown",
   "metadata": {
    "id": "uCxN_V6qytSj"
   },
   "source": [
    "![alt text](img/SA_SL_KA.png \"\")"
   ]
  },
  {
   "cell_type": "markdown",
   "metadata": {
    "id": "ZPM8naEn6Ed1"
   },
   "source": [
    "##### **Authors:** Daniel Jiménez & Bertrand Leclercq & Iman Sayyadzadeh\n",
    "##### **Date:** 2020/12/23\n",
    "##### **Subject:** Algorithmic Methods of Data Mining\n",
    "##### **Data Science Master's programme**\n",
    "##### **La Sapienza University of Rome**\n",
    "_____"
   ]
  },
  {
   "cell_type": "markdown",
   "metadata": {
    "id": "AjRq9fGhytSj"
   },
   "source": [
    "This file contains the solution to all the three Challenges (and its corresponding literals) required for the Hash and Clustering application regarding the [hast.txt](https://drive.google.com/file/d/19SD2db0dH2A0QLJOmBHnkbqOX6SbERcY/view) and [Amazon Fine Food Reviews](https://www.kaggle.com/snap/amazon-fine-food-reviews) datasets, respectively.\n",
    "\n",
    "As like in any Analytics application case, it's relevant to keep clean and tidy the working environment. We achieve this by explaining step-by-step the process we followed to apply the hash functions, the algorithm called HyperLogLog and the K-Means Clustering methodology. \n",
    "\n",
    "**Notes:** \n",
    "- We worked on a PC with an SSD of 50 GB of free space and a RAM of 16 GB.\n",
    "\n",
    "Well, first thing first, we set the libraries that we will be using to perform all hashing and clustering implementation."
   ]
  },
  {
   "cell_type": "code",
   "execution_count": 9,
   "metadata": {
    "id": "3OZMILkAytSj"
   },
   "outputs": [],
   "source": [
    "# Import required libraries\n",
    "import pandas as pd\n",
    "import numpy as np"
   ]
  },
  {
   "cell_type": "markdown",
   "metadata": {
    "id": "_J4vfLooytSj"
   },
   "source": [
    "# 1. Hashing"
   ]
  },
  {
   "cell_type": "code",
   "execution_count": null,
   "metadata": {},
   "outputs": [],
   "source": []
  },
  {
   "cell_type": "markdown",
   "metadata": {},
   "source": [
    "# 2. Clustering"
   ]
  },
  {
   "cell_type": "markdown",
   "metadata": {},
   "source": [
    "To solve this task, we were encouraged to implement the K-means clustering algorithm. In the next cell, you can see the implementation of the algorithm plenty commented to understand its performance."
   ]
  },
  {
   "cell_type": "code",
   "execution_count": 13,
   "metadata": {},
   "outputs": [
    {
     "data": {
      "text/html": [
       "<div>\n",
       "<style scoped>\n",
       "    .dataframe tbody tr th:only-of-type {\n",
       "        vertical-align: middle;\n",
       "    }\n",
       "\n",
       "    .dataframe tbody tr th {\n",
       "        vertical-align: top;\n",
       "    }\n",
       "\n",
       "    .dataframe thead th {\n",
       "        text-align: right;\n",
       "    }\n",
       "</style>\n",
       "<table border=\"1\" class=\"dataframe\">\n",
       "  <thead>\n",
       "    <tr style=\"text-align: right;\">\n",
       "      <th></th>\n",
       "      <th>0</th>\n",
       "      <th>1</th>\n",
       "      <th>2</th>\n",
       "    </tr>\n",
       "  </thead>\n",
       "  <tbody>\n",
       "    <tr>\n",
       "      <th>0</th>\n",
       "      <td>5.1</td>\n",
       "      <td>3.5</td>\n",
       "      <td>1.4</td>\n",
       "    </tr>\n",
       "    <tr>\n",
       "      <th>1</th>\n",
       "      <td>4.9</td>\n",
       "      <td>3.0</td>\n",
       "      <td>1.4</td>\n",
       "    </tr>\n",
       "    <tr>\n",
       "      <th>2</th>\n",
       "      <td>4.7</td>\n",
       "      <td>3.2</td>\n",
       "      <td>1.3</td>\n",
       "    </tr>\n",
       "    <tr>\n",
       "      <th>3</th>\n",
       "      <td>4.6</td>\n",
       "      <td>3.1</td>\n",
       "      <td>1.5</td>\n",
       "    </tr>\n",
       "    <tr>\n",
       "      <th>4</th>\n",
       "      <td>5.0</td>\n",
       "      <td>3.6</td>\n",
       "      <td>1.4</td>\n",
       "    </tr>\n",
       "    <tr>\n",
       "      <th>...</th>\n",
       "      <td>...</td>\n",
       "      <td>...</td>\n",
       "      <td>...</td>\n",
       "    </tr>\n",
       "    <tr>\n",
       "      <th>145</th>\n",
       "      <td>6.7</td>\n",
       "      <td>3.0</td>\n",
       "      <td>5.2</td>\n",
       "    </tr>\n",
       "    <tr>\n",
       "      <th>146</th>\n",
       "      <td>6.3</td>\n",
       "      <td>2.5</td>\n",
       "      <td>5.0</td>\n",
       "    </tr>\n",
       "    <tr>\n",
       "      <th>147</th>\n",
       "      <td>6.5</td>\n",
       "      <td>3.0</td>\n",
       "      <td>5.2</td>\n",
       "    </tr>\n",
       "    <tr>\n",
       "      <th>148</th>\n",
       "      <td>6.2</td>\n",
       "      <td>3.4</td>\n",
       "      <td>5.4</td>\n",
       "    </tr>\n",
       "    <tr>\n",
       "      <th>149</th>\n",
       "      <td>5.9</td>\n",
       "      <td>3.0</td>\n",
       "      <td>5.1</td>\n",
       "    </tr>\n",
       "  </tbody>\n",
       "</table>\n",
       "<p>150 rows × 3 columns</p>\n",
       "</div>"
      ],
      "text/plain": [
       "       0    1    2\n",
       "0    5.1  3.5  1.4\n",
       "1    4.9  3.0  1.4\n",
       "2    4.7  3.2  1.3\n",
       "3    4.6  3.1  1.5\n",
       "4    5.0  3.6  1.4\n",
       "..   ...  ...  ...\n",
       "145  6.7  3.0  5.2\n",
       "146  6.3  2.5  5.0\n",
       "147  6.5  3.0  5.2\n",
       "148  6.2  3.4  5.4\n",
       "149  5.9  3.0  5.1\n",
       "\n",
       "[150 rows x 3 columns]"
      ]
     },
     "execution_count": 13,
     "metadata": {},
     "output_type": "execute_result"
    }
   ],
   "source": [
    "from sklearn import datasets\n",
    "\n",
    "# import some data to play with\n",
    "iris = datasets.load_iris()\n",
    "df1 = pd.DataFrame(iris.data[:, :3])\n",
    "df1"
   ]
  },
  {
   "cell_type": "code",
   "execution_count": 68,
   "metadata": {},
   "outputs": [],
   "source": [
    "import matplotlib.pyplot as plt\n",
    "data = np.array(df1)\n",
    "import random\n",
    "our_seed = 1234\n",
    "random.seed(our_seed)\n",
    "centroids_0 = random.sample(range(0, len(df1)), 3)\n",
    "centroids_0\n",
    "centroids = []\n",
    "for i in centroids_0:\n",
    "    centroids.append(df1.loc[i])\n",
    "\n",
    "centroids = np.array(centroids)\n",
    "\n",
    "def calc_distance(vect1, vect2):\n",
    "    return(sum((vect1 - vect2)**2))**0.5\n",
    "\n",
    "def assign_cluster(centroids, data):\n",
    "    final_cluster = []\n",
    "    for i in data:\n",
    "        dist = []\n",
    "        for j in centroids:\n",
    "            dist.append(calc_distance(i, j))\n",
    "        final_cluster.append(np.argmin(dist))\n",
    "    return final_cluster\n",
    "\n",
    "def get_centroid(clusters, data):\n",
    "    final_centroids = []\n",
    "    aux = pd.concat([pd.DataFrame(data), pd.DataFrame(clusters, columns=['Cluster'])], axis=1)\n",
    "    for i in set(aux['Cluster']):\n",
    "        cluster_0 = aux[aux['Cluster'] == i][aux.columns[:-1]]\n",
    "        mean_by_cluster = cluster_0.mean(axis=0)\n",
    "        final_centroids.append(mean_by_cluster)\n",
    "    return final_centroids\n",
    "\n",
    "for i in range(10):\n",
    "    clusters = assign_cluster(centroids, data)\n",
    "    centroids = get_centroid(clusters, data)\n",
    "    #print(centroids)"
   ]
  },
  {
   "cell_type": "code",
   "execution_count": 69,
   "metadata": {},
   "outputs": [
    {
     "name": "stdout",
     "output_type": "stream",
     "text": [
      "97\n",
      "32\n",
      "21\n"
     ]
    }
   ],
   "source": [
    "print(clusters.count(0))\n",
    "print(clusters.count(1))\n",
    "print(clusters.count(2))"
   ]
  },
  {
   "cell_type": "markdown",
   "metadata": {},
   "source": [
    "# Bonus"
   ]
  },
  {
   "cell_type": "code",
   "execution_count": null,
   "metadata": {},
   "outputs": [],
   "source": []
  },
  {
   "cell_type": "markdown",
   "metadata": {},
   "source": [
    "# 3. Algorithmic question"
   ]
  },
  {
   "cell_type": "code",
   "execution_count": null,
   "metadata": {},
   "outputs": [],
   "source": []
  }
 ],
 "metadata": {
  "colab": {
   "collapsed_sections": [],
   "name": "main.ipynb",
   "provenance": []
  },
  "kernelspec": {
   "display_name": "Python 3",
   "language": "python",
   "name": "python3"
  },
  "language_info": {
   "codemirror_mode": {
    "name": "ipython",
    "version": 3
   },
   "file_extension": ".py",
   "mimetype": "text/x-python",
   "name": "python",
   "nbconvert_exporter": "python",
   "pygments_lexer": "ipython3",
   "version": "3.7.9"
  }
 },
 "nbformat": 4,
 "nbformat_minor": 4
}
